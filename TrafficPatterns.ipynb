{
 "cells": [
  {
   "cell_type": "markdown",
   "metadata": {},
   "source": [
    "# Analysis of Traffic Intensity on Westbound I-94\n",
    "\n",
    "In this guided project, we will be using the \n",
    "[Metro Interstate Traffic Volume Data Set](https://archive.ics.uci.edu/ml/datasets/Metro+Interstate+Traffic+Volume) to provide some analysis of traffic on I-94. Our goal is to determine a few indicators that may lead to increased traffic on the interstate. \n",
    "\n",
    "The data was collected by station located on I-94 between Minneapolis and Saint Paul, Minnesota. It's important to note that the station only records westbound traffic.\n",
    "\n",
    "\n",
    "Here are the variables included in the data set:\n",
    "\n",
    " - `holiday` Categorical US National holidays plus regional holiday, Minnesota State Fair\n",
    " - `temp` Numeric Average temp in kelvin\n",
    " - `rain_1h` Numeric Amount in mm of rain that occurred in the hour\n",
    " - `snow_1h` Numeric Amount in mm of snow that occurred in the hour\n",
    " - `clouds_all` Numeric Percentage of cloud cover\n",
    " - `weather_main` Categorical Short textual description of the current weather\n",
    " - `weather_description` Categorical Longer textual description of the current weather\n",
    " - `date_time` DateTime Hour of the data collected in local CST time\n",
    " - `traffic_volume` Numeric Hourly I-94 ATR 301 reported westbound traffic volume\n",
    "\n",
    "Let's import our libraries, open the dataset, and take a look!"
   ]
  },
  {
   "cell_type": "code",
   "execution_count": 1,
   "metadata": {},
   "outputs": [
    {
     "data": {
      "text/html": [
       "<div>\n",
       "<style scoped>\n",
       "    .dataframe tbody tr th:only-of-type {\n",
       "        vertical-align: middle;\n",
       "    }\n",
       "\n",
       "    .dataframe tbody tr th {\n",
       "        vertical-align: top;\n",
       "    }\n",
       "\n",
       "    .dataframe thead th {\n",
       "        text-align: right;\n",
       "    }\n",
       "</style>\n",
       "<table border=\"1\" class=\"dataframe\">\n",
       "  <thead>\n",
       "    <tr style=\"text-align: right;\">\n",
       "      <th></th>\n",
       "      <th>holiday</th>\n",
       "      <th>temp</th>\n",
       "      <th>rain_1h</th>\n",
       "      <th>snow_1h</th>\n",
       "      <th>clouds_all</th>\n",
       "      <th>weather_main</th>\n",
       "      <th>weather_description</th>\n",
       "      <th>date_time</th>\n",
       "      <th>traffic_volume</th>\n",
       "    </tr>\n",
       "  </thead>\n",
       "  <tbody>\n",
       "    <tr>\n",
       "      <th>0</th>\n",
       "      <td>None</td>\n",
       "      <td>288.28</td>\n",
       "      <td>0.0</td>\n",
       "      <td>0.0</td>\n",
       "      <td>40</td>\n",
       "      <td>Clouds</td>\n",
       "      <td>scattered clouds</td>\n",
       "      <td>2012-10-02 09:00:00</td>\n",
       "      <td>5545</td>\n",
       "    </tr>\n",
       "    <tr>\n",
       "      <th>1</th>\n",
       "      <td>None</td>\n",
       "      <td>289.36</td>\n",
       "      <td>0.0</td>\n",
       "      <td>0.0</td>\n",
       "      <td>75</td>\n",
       "      <td>Clouds</td>\n",
       "      <td>broken clouds</td>\n",
       "      <td>2012-10-02 10:00:00</td>\n",
       "      <td>4516</td>\n",
       "    </tr>\n",
       "    <tr>\n",
       "      <th>2</th>\n",
       "      <td>None</td>\n",
       "      <td>289.58</td>\n",
       "      <td>0.0</td>\n",
       "      <td>0.0</td>\n",
       "      <td>90</td>\n",
       "      <td>Clouds</td>\n",
       "      <td>overcast clouds</td>\n",
       "      <td>2012-10-02 11:00:00</td>\n",
       "      <td>4767</td>\n",
       "    </tr>\n",
       "    <tr>\n",
       "      <th>3</th>\n",
       "      <td>None</td>\n",
       "      <td>290.13</td>\n",
       "      <td>0.0</td>\n",
       "      <td>0.0</td>\n",
       "      <td>90</td>\n",
       "      <td>Clouds</td>\n",
       "      <td>overcast clouds</td>\n",
       "      <td>2012-10-02 12:00:00</td>\n",
       "      <td>5026</td>\n",
       "    </tr>\n",
       "    <tr>\n",
       "      <th>4</th>\n",
       "      <td>None</td>\n",
       "      <td>291.14</td>\n",
       "      <td>0.0</td>\n",
       "      <td>0.0</td>\n",
       "      <td>75</td>\n",
       "      <td>Clouds</td>\n",
       "      <td>broken clouds</td>\n",
       "      <td>2012-10-02 13:00:00</td>\n",
       "      <td>4918</td>\n",
       "    </tr>\n",
       "  </tbody>\n",
       "</table>\n",
       "</div>"
      ],
      "text/plain": [
       "  holiday    temp  rain_1h  snow_1h  clouds_all weather_main  \\\n",
       "0    None  288.28      0.0      0.0          40       Clouds   \n",
       "1    None  289.36      0.0      0.0          75       Clouds   \n",
       "2    None  289.58      0.0      0.0          90       Clouds   \n",
       "3    None  290.13      0.0      0.0          90       Clouds   \n",
       "4    None  291.14      0.0      0.0          75       Clouds   \n",
       "\n",
       "  weather_description            date_time  traffic_volume  \n",
       "0    scattered clouds  2012-10-02 09:00:00            5545  \n",
       "1       broken clouds  2012-10-02 10:00:00            4516  \n",
       "2     overcast clouds  2012-10-02 11:00:00            4767  \n",
       "3     overcast clouds  2012-10-02 12:00:00            5026  \n",
       "4       broken clouds  2012-10-02 13:00:00            4918  "
      ]
     },
     "execution_count": 1,
     "metadata": {},
     "output_type": "execute_result"
    }
   ],
   "source": [
    "import pandas as pd\n",
    "import matplotlib.pyplot as plt\n",
    "%matplotlib inline\n",
    "traffic=pd.read_csv(r\"~\\Downloads\\Metro_Interstate_Traffic_Volume.csv\")\n",
    "traffic.head()\n"
   ]
  },
  {
   "cell_type": "code",
   "execution_count": 2,
   "metadata": {
    "scrolled": true
   },
   "outputs": [
    {
     "name": "stdout",
     "output_type": "stream",
     "text": [
      "<class 'pandas.core.frame.DataFrame'>\n",
      "RangeIndex: 48204 entries, 0 to 48203\n",
      "Data columns (total 9 columns):\n",
      " #   Column               Non-Null Count  Dtype  \n",
      "---  ------               --------------  -----  \n",
      " 0   holiday              48204 non-null  object \n",
      " 1   temp                 48204 non-null  float64\n",
      " 2   rain_1h              48204 non-null  float64\n",
      " 3   snow_1h              48204 non-null  float64\n",
      " 4   clouds_all           48204 non-null  int64  \n",
      " 5   weather_main         48204 non-null  object \n",
      " 6   weather_description  48204 non-null  object \n",
      " 7   date_time            48204 non-null  object \n",
      " 8   traffic_volume       48204 non-null  int64  \n",
      "dtypes: float64(3), int64(2), object(4)\n",
      "memory usage: 3.3+ MB\n"
     ]
    }
   ],
   "source": [
    "traffic.info()"
   ]
  },
  {
   "cell_type": "markdown",
   "metadata": {},
   "source": [
    "When we look at the info about the variables, we find that our data set is looking pretty clean. All entries are accounted for, so we won't need to do much cleaning of the data for this project. Also, note that the data types are already in integer or float format, besides the `weather_main`, `weather_description`, and `date_time` variables, which contain strings."
   ]
  },
  {
   "cell_type": "markdown",
   "metadata": {},
   "source": [
    "## Exploring Traffic Volume\n",
    "\n",
    "To begin, we'll look at the dependant variable in our analysis, `traffic_volume`. Let's plot a histagram, which will show us the frequency of traffic volumes across 10 equal ranges. We'll also use the `Series.describe()` method to look at some of the statistics for the column."
   ]
  },
  {
   "cell_type": "code",
   "execution_count": 3,
   "metadata": {
    "scrolled": true
   },
   "outputs": [
    {
     "data": {
      "text/plain": [
       "<AxesSubplot:ylabel='Frequency'>"
      ]
     },
     "execution_count": 3,
     "metadata": {},
     "output_type": "execute_result"
    },
    {
     "data": {
      "image/png": "[encoded data removed]",
      "text/plain": [
       "<Figure size 432x288 with 1 Axes>"
      ]
     },
     "metadata": {
      "needs_background": "light"
     },
     "output_type": "display_data"
    }
   ],
   "source": [
    "#using matplotlib to plot a histagram for the traffic_volume column\n",
    "traffic['traffic_volume'].plot.hist()"
   ]
  },
  {
   "cell_type": "code",
   "execution_count": 4,
   "metadata": {},
   "outputs": [
    {
     "data": {
      "text/plain": [
       "count    48204.000000\n",
       "mean      3259.818355\n",
       "std       1986.860670\n",
       "min          0.000000\n",
       "25%       1193.000000\n",
       "50%       3380.000000\n",
       "75%       4933.000000\n",
       "max       7280.000000\n",
       "Name: traffic_volume, dtype: float64"
      ]
     },
     "execution_count": 4,
     "metadata": {},
     "output_type": "execute_result"
    }
   ],
   "source": [
    "traffic['traffic_volume'].describe()"
   ]
  },
  {
   "cell_type": "markdown",
   "metadata": {},
   "source": [
    "Looking at the histogram, the two most common traffic volumes are in the approximate ranges of 0-500 cars and 4500-5000 cars. Likely the 0-500 range was measured overnight, when most people are sleeping, while the 4500-5000 range is measured during the daily 'rush-hour' for the area. There are a few times where traffic is abnormally bad (the maximum volume is 7280 cars) which may take place on holidays."
   ]
  },
  {
   "cell_type": "markdown",
   "metadata": {},
   "source": [
    "## Traffic Volume, Day vs. Night\n",
    "\n",
    "Let's use the `date_time` variable to check whether there's any patterns in the traffic volume between day and night. If our hypothesis is true, there would be less traffic overnight compared to during the day. \n",
    "\n",
    "First, we'll need to convert the data in `date_time` from `object` to `datetime` format."
   ]
  },
  {
   "cell_type": "code",
   "execution_count": 5,
   "metadata": {
    "scrolled": false
   },
   "outputs": [
    {
     "name": "stdout",
     "output_type": "stream",
     "text": [
      "<class 'pandas.core.frame.DataFrame'>\n",
      "RangeIndex: 48204 entries, 0 to 48203\n",
      "Data columns (total 9 columns):\n",
      " #   Column               Non-Null Count  Dtype         \n",
      "---  ------               --------------  -----         \n",
      " 0   holiday              48204 non-null  object        \n",
      " 1   temp                 48204 non-null  float64       \n",
      " 2   rain_1h              48204 non-null  float64       \n",
      " 3   snow_1h              48204 non-null  float64       \n",
      " 4   clouds_all           48204 non-null  int64         \n",
      " 5   weather_main         48204 non-null  object        \n",
      " 6   weather_description  48204 non-null  object        \n",
      " 7   date_time            48204 non-null  datetime64[ns]\n",
      " 8   traffic_volume       48204 non-null  int64         \n",
      "dtypes: datetime64[ns](1), float64(3), int64(2), object(3)\n",
      "memory usage: 3.3+ MB\n"
     ]
    }
   ],
   "source": [
    "#using pd.to_datetime to change the dtype from 'object' to 'datetime64'\n",
    "traffic['date_time']=pd.to_datetime(traffic['date_time'], format='%Y-%m-%d %H:%M:%S')\n",
    "#running dataframe.info() to confirm the dtype for 'date_time' is, in fact, datetime\n",
    "traffic.info()"
   ]
  },
  {
   "cell_type": "markdown",
   "metadata": {},
   "source": [
    "Now that our `date_time` column has the correct dtype, we'll create two dataframes. The `daytime` dataframe contains data from 7am - 7pm and the `nighttime` dataframe contains data from 7pm-7am. We'll run `value_counts()` to create a frequency table for the hour value in the `date_time` column for each dataframe."
   ]
  },
  {
   "cell_type": "code",
   "execution_count": 6,
   "metadata": {},
   "outputs": [
    {
     "data": {
      "text/plain": [
       "7     2079\n",
       "8     2080\n",
       "9     2018\n",
       "10    2078\n",
       "11    1952\n",
       "12    1955\n",
       "13    1905\n",
       "14    1969\n",
       "15    1934\n",
       "16    1988\n",
       "17    1933\n",
       "18    1986\n",
       "Name: date_time, dtype: int64"
      ]
     },
     "execution_count": 6,
     "metadata": {},
     "output_type": "execute_result"
    }
   ],
   "source": [
    "#separting the data daytime/nighttime data\n",
    "daytime=traffic[((traffic['date_time'].dt.hour)>=7)&((traffic['date_time'].dt.hour)<19)].copy()\n",
    "nighttime=traffic[((traffic['date_time'].dt.hour)>=19)|((traffic['date_time'].dt.hour)<7)].copy()\n",
    "\n",
    "\n",
    "#running value_counts() to double check the hours fall in the range we wanted\n",
    "daytime['date_time'].dt.hour.value_counts().sort_index()"
   ]
  },
  {
   "cell_type": "code",
   "execution_count": 7,
   "metadata": {},
   "outputs": [
    {
     "data": {
      "text/plain": [
       "0     2037\n",
       "1     2049\n",
       "2     2019\n",
       "3     2025\n",
       "4     2091\n",
       "5     2063\n",
       "6     2087\n",
       "19    1961\n",
       "20    1979\n",
       "21    1982\n",
       "22    1994\n",
       "23    2040\n",
       "Name: date_time, dtype: int64"
      ]
     },
     "execution_count": 7,
     "metadata": {},
     "output_type": "execute_result"
    }
   ],
   "source": [
    "#doing the same for the nighttime data\n",
    "nighttime['date_time'].dt.hour.value_counts().sort_index()"
   ]
  },
  {
   "cell_type": "markdown",
   "metadata": {},
   "source": [
    "Great, it look like all hours are accounted for between both dataframes, next we can move on to some analysis."
   ]
  },
  {
   "cell_type": "markdown",
   "metadata": {},
   "source": [
    "## Analyzing Traffic Volume: Day vs Night\n",
    "\n",
    "Now that we have our data separated into Day and Night, let's look at the `traffic_volume` values to see if there's any interesting patterns.\n",
    "\n",
    "To begin, we'll create histograms for day and night to show us the most common traffic volumes for each hour range."
   ]
  },
  {
   "cell_type": "code",
   "execution_count": 8,
   "metadata": {
    "scrolled": true
   },
   "outputs": [
    {
     "data": {
      "image/png": "[encoded data removed]",
      "text/plain": [
       "<Figure size 432x288 with 2 Axes>"
      ]
     },
     "metadata": {
      "needs_background": "light"
     },
     "output_type": "display_data"
    }
   ],
   "source": [
    "plt.subplot(1,2,1)\n",
    "daytime['traffic_volume'].plot.hist()\n",
    "plt.title('Day (7am - 7pm)')\n",
    "plt.xlabel('Traffic Volume')\n",
    "plt.ylabel('Frequency')\n",
    "plt.xlim([0,8000])\n",
    "plt.ylim([0,8000])\n",
    "\n",
    "plt.subplot(1,2,2)\n",
    "nighttime['traffic_volume'].plot.hist()\n",
    "plt.title('Night (7pm - 7am)')\n",
    "plt.xlabel('Traffic Volume')\n",
    "plt.ylabel('Frequency')\n",
    "plt.xlim([0,8000])\n",
    "plt.ylim([0,8000])\n",
    "\n",
    "plt.subplots_adjust(right=1.5)\n",
    "plt.show()"
   ]
  },
  {
   "cell_type": "markdown",
   "metadata": {},
   "source": [
    "Judging by these histograms, it seems like our original theory may be correct. Given the histogram for night, the most common traffic volume is 0-500 cars, while the histogram for day shows us the most common traffic volume is closer to 4500-5000 cars. At night, its more common to have less traffic compared to during the day.\n",
    "\n",
    "Let's take a closer look at some of the summary statistics for our day and night data."
   ]
  },
  {
   "cell_type": "code",
   "execution_count": 9,
   "metadata": {},
   "outputs": [
    {
     "data": {
      "text/plain": [
       "count    23877.000000\n",
       "mean      4762.047452\n",
       "std       1174.546482\n",
       "min          0.000000\n",
       "25%       4252.000000\n",
       "50%       4820.000000\n",
       "75%       5559.000000\n",
       "max       7280.000000\n",
       "Name: traffic_volume, dtype: float64"
      ]
     },
     "execution_count": 9,
     "metadata": {},
     "output_type": "execute_result"
    }
   ],
   "source": [
    "daytime['traffic_volume'].describe()"
   ]
  },
  {
   "cell_type": "code",
   "execution_count": 10,
   "metadata": {
    "scrolled": true
   },
   "outputs": [
    {
     "data": {
      "text/plain": [
       "count    24327.000000\n",
       "mean      1785.377441\n",
       "std       1441.951197\n",
       "min          0.000000\n",
       "25%        530.000000\n",
       "50%       1287.000000\n",
       "75%       2819.000000\n",
       "max       6386.000000\n",
       "Name: traffic_volume, dtype: float64"
      ]
     },
     "execution_count": 10,
     "metadata": {},
     "output_type": "execute_result"
    }
   ],
   "source": [
    "nighttime['traffic_volume'].describe()"
   ]
  },
  {
   "cell_type": "markdown",
   "metadata": {},
   "source": [
    "As we can see, the mean traffic volume for night is significantly lower compared to day! To find indicators of heavy traffic, let's just focus on the day time data for now."
   ]
  },
  {
   "cell_type": "markdown",
   "metadata": {},
   "source": [
    "## Traffic Volumes by Month and Days\n",
    "\n",
    "Since we found that there's more traffic during day time hours compared to night time hours, let's see if there's a difference in traffic volumes accross months. \n",
    "\n",
    "to do this we:\n",
    " - Use `daytime['date_time'].dt.month` to create a new column where each value describes the month when the traffic volume measurement was taken.\n",
    " - Use `daytime.groupby('month').mean()` to group the dataset by the month column with the mean as an aggregate function."
   ]
  },
  {
   "cell_type": "code",
   "execution_count": 11,
   "metadata": {},
   "outputs": [
    {
     "data": {
      "image/png": "[encoded data removed]",
      "text/plain": [
       "<Figure size 432x288 with 1 Axes>"
      ]
     },
     "metadata": {
      "needs_background": "light"
     },
     "output_type": "display_data"
    }
   ],
   "source": [
    "daytime['month'] = daytime['date_time'].dt.month\n",
    "by_month = daytime.groupby('month').mean()\n",
    "by_month['traffic_volume'].plot()\n",
    "plt.title('Average Traffic Volume by Month')\n",
    "plt.xlabel('Month')\n",
    "plt.ylabel('Average Traffic Volume')\n",
    "plt.show()"
   ]
  },
  {
   "cell_type": "markdown",
   "metadata": {},
   "source": [
    "It looks like traffic volumes drop significantly during December and January, this could be due to cold weather and snow that's characteristic of Minnesota. It's interesting to note that there's a drop off in traffic volume in July too! "
   ]
  },
  {
   "cell_type": "code",
   "execution_count": 12,
   "metadata": {},
   "outputs": [
    {
     "data": {
      "text/plain": [
       "Text(0.5, 1.0, 'Avg Traffic Volume by Day of Week')"
      ]
     },
     "execution_count": 12,
     "metadata": {},
     "output_type": "execute_result"
    },
    {
     "data": {
      "image/png": "[encoded data removed]",
      "text/plain": [
       "<Figure size 432x288 with 1 Axes>"
      ]
     },
     "metadata": {
      "needs_background": "light"
     },
     "output_type": "display_data"
    }
   ],
   "source": [
    "daytime['dayofweek'] = daytime['date_time'].dt.dayofweek\n",
    "by_dayofweek = daytime.groupby('dayofweek').mean()\n",
    "by_dayofweek['traffic_volume'].plot()\n",
    "plt.xlabel('Day of Week')\n",
    "plt.ylabel('Avg Traffic Volume')\n",
    "plt.xticks(ticks=[0,1,2,3,4,5,6],\n",
    "           labels=['Monday','Tuesday','Wednesday','Thursday','Friday','Saturday','Sunday'],\n",
    "           rotation=30)\n",
    "plt.title('Avg Traffic Volume by Day of Week')"
   ]
  },
  {
   "cell_type": "markdown",
   "metadata": {},
   "source": [
    "It looks like there's generally less traffic over the weekend compared to week days. \n",
    "\n",
    "## Traffic Volumes by Time of Day: Weekend vs Weekday\n",
    "\n",
    "Next, let's try to find the busiest times of the day to be on I-94. Since there's a significant difference in traffic during the week compared to weekends, we'll seperate the data and then look at the average traffic volume accross day time hours."
   ]
  },
  {
   "cell_type": "code",
   "execution_count": 13,
   "metadata": {
    "scrolled": true
   },
   "outputs": [
    {
     "name": "stdout",
     "output_type": "stream",
     "text": [
      "hour\n",
      "7     6030.413559\n",
      "8     5503.497970\n",
      "9     4895.269257\n",
      "10    4378.419118\n",
      "11    4633.419470\n",
      "12    4855.382143\n",
      "13    4859.180473\n",
      "14    5152.995778\n",
      "15    5592.897768\n",
      "16    6189.473647\n",
      "17    5784.827133\n",
      "18    4434.209431\n",
      "Name: traffic_volume, dtype: float64\n",
      "hour\n",
      "7     1589.365894\n",
      "8     2338.578073\n",
      "9     3111.623917\n",
      "10    3686.632302\n",
      "11    4044.154955\n",
      "12    4372.482883\n",
      "13    4362.296564\n",
      "14    4358.543796\n",
      "15    4342.456881\n",
      "16    4339.693805\n",
      "17    4151.919929\n",
      "18    3811.792279\n",
      "Name: traffic_volume, dtype: float64\n"
     ]
    }
   ],
   "source": [
    "daytime['hour'] = daytime['date_time'].dt.hour\n",
    "bussiness_days = daytime.copy()[daytime['dayofweek'] <= 4] # 4 == Friday\n",
    "weekend = daytime.copy()[daytime['dayofweek'] >= 5] # 5 == Saturday\n",
    "by_hour_business = bussiness_days.groupby('hour').mean()\n",
    "by_hour_weekend = weekend.groupby('hour').mean()\n",
    "\n",
    "print(by_hour_business['traffic_volume'])\n",
    "print(by_hour_weekend['traffic_volume'])"
   ]
  },
  {
   "cell_type": "code",
   "execution_count": 14,
   "metadata": {
    "scrolled": true
   },
   "outputs": [
    {
     "data": {
      "image/png": "[encoded data removed]",
      "text/plain": [
       "<Figure size 432x288 with 1 Axes>"
      ]
     },
     "metadata": {
      "needs_background": "light"
     },
     "output_type": "display_data"
    }
   ],
   "source": [
    "\n",
    "by_hour_business['traffic_volume'].plot(label='Weekdays')\n",
    "by_hour_weekend['traffic_volume'].plot(label='Weekends')\n",
    "plt.legend()\n",
    "plt.ylabel('Average Traffic Volume')\n",
    "plt.xlabel('Hour (Military Time)')\n",
    "plt.ylim([1000,7000])\n",
    "plt.show()"
   ]
  },
  {
   "cell_type": "markdown",
   "metadata": {},
   "source": [
    "According to our graph, the busiest times during weekdays are 7am and 4pm. The graph also shows us that, during daytime hours, weekday traffic is always heavier compared to weekends. For weekends, there is substantially less people driving during early morning hours, and in the afternoon there is a consistant volume of traffic on average. "
   ]
  },
  {
   "cell_type": "markdown",
   "metadata": {},
   "source": [
    "## Traffic Volumes and Weather\n",
    "\n",
    "Next, let's find the correlation between traffic volumes and weather patterns. The data set provides a few columns that measure weather like : `temp`, `rain_1h`, `snow_1h`, and `clouds_all`\n",
    "\n",
    "We'll use `Dataframe.corr()` to find the correlation coefficients between traffic volume and these numeric variables that measure weather patterns."
   ]
  },
  {
   "cell_type": "code",
   "execution_count": 15,
   "metadata": {},
   "outputs": [
    {
     "data": {
      "text/html": [
       "<div>\n",
       "<style scoped>\n",
       "    .dataframe tbody tr th:only-of-type {\n",
       "        vertical-align: middle;\n",
       "    }\n",
       "\n",
       "    .dataframe tbody tr th {\n",
       "        vertical-align: top;\n",
       "    }\n",
       "\n",
       "    .dataframe thead th {\n",
       "        text-align: right;\n",
       "    }\n",
       "</style>\n",
       "<table border=\"1\" class=\"dataframe\">\n",
       "  <thead>\n",
       "    <tr style=\"text-align: right;\">\n",
       "      <th></th>\n",
       "      <th>traffic_volume</th>\n",
       "    </tr>\n",
       "  </thead>\n",
       "  <tbody>\n",
       "    <tr>\n",
       "      <th>temp</th>\n",
       "      <td>0.128317</td>\n",
       "    </tr>\n",
       "    <tr>\n",
       "      <th>rain_1h</th>\n",
       "      <td>0.003697</td>\n",
       "    </tr>\n",
       "    <tr>\n",
       "      <th>snow_1h</th>\n",
       "      <td>0.001265</td>\n",
       "    </tr>\n",
       "    <tr>\n",
       "      <th>clouds_all</th>\n",
       "      <td>-0.032932</td>\n",
       "    </tr>\n",
       "    <tr>\n",
       "      <th>traffic_volume</th>\n",
       "      <td>1.000000</td>\n",
       "    </tr>\n",
       "    <tr>\n",
       "      <th>month</th>\n",
       "      <td>-0.022337</td>\n",
       "    </tr>\n",
       "    <tr>\n",
       "      <th>dayofweek</th>\n",
       "      <td>-0.416453</td>\n",
       "    </tr>\n",
       "    <tr>\n",
       "      <th>hour</th>\n",
       "      <td>0.172704</td>\n",
       "    </tr>\n",
       "  </tbody>\n",
       "</table>\n",
       "</div>"
      ],
      "text/plain": [
       "                traffic_volume\n",
       "temp                  0.128317\n",
       "rain_1h               0.003697\n",
       "snow_1h               0.001265\n",
       "clouds_all           -0.032932\n",
       "traffic_volume        1.000000\n",
       "month                -0.022337\n",
       "dayofweek            -0.416453\n",
       "hour                  0.172704"
      ]
     },
     "execution_count": 15,
     "metadata": {},
     "output_type": "execute_result"
    }
   ],
   "source": [
    "daytime.corr()[['traffic_volume']]"
   ]
  },
  {
   "cell_type": "code",
   "execution_count": 16,
   "metadata": {},
   "outputs": [
    {
     "data": {
      "image/png": "[encoded data removed]",
      "text/plain": [
       "<Figure size 432x288 with 1 Axes>"
      ]
     },
     "metadata": {
      "needs_background": "light"
     },
     "output_type": "display_data"
    }
   ],
   "source": [
    "plt.scatter(daytime['temp'], daytime['traffic_volume'])\n",
    "plt.ylabel('Traffic Volume')\n",
    "plt.xlabel('Temp (in Kelvin)')\n",
    "plt.show()"
   ]
  },
  {
   "cell_type": "markdown",
   "metadata": {},
   "source": [
    "It looks like we may have some outliers recorded at 0 degrees Kelvin, also known as absolute zero, which is not possible. Let's drop these points and reassess the correlation coefficient."
   ]
  },
  {
   "cell_type": "code",
   "execution_count": 17,
   "metadata": {
    "scrolled": true
   },
   "outputs": [
    {
     "data": {
      "text/plain": [
       "count    23877.000000\n",
       "mean       282.257596\n",
       "std         13.298885\n",
       "min          0.000000\n",
       "25%        272.680000\n",
       "50%        283.780000\n",
       "75%        293.440000\n",
       "max        310.070000\n",
       "Name: temp, dtype: float64"
      ]
     },
     "execution_count": 17,
     "metadata": {},
     "output_type": "execute_result"
    }
   ],
   "source": [
    "daytime['temp'].describe()"
   ]
  },
  {
   "cell_type": "markdown",
   "metadata": {},
   "source": [
    "As we can see, the min temp is 0. This must be an error in recording. So we'll update our dataframe to only include the rows where `temp` is greater than 0"
   ]
  },
  {
   "cell_type": "code",
   "execution_count": 18,
   "metadata": {},
   "outputs": [
    {
     "data": {
      "text/plain": [
       "count    23875.000000\n",
       "mean       282.281240\n",
       "std         13.046089\n",
       "min        243.390000\n",
       "25%        272.680000\n",
       "50%        283.780000\n",
       "75%        293.440000\n",
       "max        310.070000\n",
       "Name: temp, dtype: float64"
      ]
     },
     "execution_count": 18,
     "metadata": {},
     "output_type": "execute_result"
    }
   ],
   "source": [
    "daytime=daytime.loc[daytime['temp']>0]\n",
    "daytime['temp'].describe()"
   ]
  },
  {
   "cell_type": "markdown",
   "metadata": {},
   "source": [
    "It looks like there were two rows with this error, let's check our correlation coefficients again. "
   ]
  },
  {
   "cell_type": "code",
   "execution_count": 19,
   "metadata": {},
   "outputs": [
    {
     "data": {
      "text/html": [
       "<div>\n",
       "<style scoped>\n",
       "    .dataframe tbody tr th:only-of-type {\n",
       "        vertical-align: middle;\n",
       "    }\n",
       "\n",
       "    .dataframe tbody tr th {\n",
       "        vertical-align: top;\n",
       "    }\n",
       "\n",
       "    .dataframe thead th {\n",
       "        text-align: right;\n",
       "    }\n",
       "</style>\n",
       "<table border=\"1\" class=\"dataframe\">\n",
       "  <thead>\n",
       "    <tr style=\"text-align: right;\">\n",
       "      <th></th>\n",
       "      <th>traffic_volume</th>\n",
       "    </tr>\n",
       "  </thead>\n",
       "  <tbody>\n",
       "    <tr>\n",
       "      <th>temp</th>\n",
       "      <td>0.125536</td>\n",
       "    </tr>\n",
       "    <tr>\n",
       "      <th>rain_1h</th>\n",
       "      <td>0.003696</td>\n",
       "    </tr>\n",
       "    <tr>\n",
       "      <th>snow_1h</th>\n",
       "      <td>0.001259</td>\n",
       "    </tr>\n",
       "    <tr>\n",
       "      <th>clouds_all</th>\n",
       "      <td>-0.033295</td>\n",
       "    </tr>\n",
       "    <tr>\n",
       "      <th>traffic_volume</th>\n",
       "      <td>1.000000</td>\n",
       "    </tr>\n",
       "    <tr>\n",
       "      <th>month</th>\n",
       "      <td>-0.022673</td>\n",
       "    </tr>\n",
       "    <tr>\n",
       "      <th>dayofweek</th>\n",
       "      <td>-0.416275</td>\n",
       "    </tr>\n",
       "    <tr>\n",
       "      <th>hour</th>\n",
       "      <td>0.172429</td>\n",
       "    </tr>\n",
       "  </tbody>\n",
       "</table>\n",
       "</div>"
      ],
      "text/plain": [
       "                traffic_volume\n",
       "temp                  0.125536\n",
       "rain_1h               0.003696\n",
       "snow_1h               0.001259\n",
       "clouds_all           -0.033295\n",
       "traffic_volume        1.000000\n",
       "month                -0.022673\n",
       "dayofweek            -0.416275\n",
       "hour                  0.172429"
      ]
     },
     "execution_count": 19,
     "metadata": {},
     "output_type": "execute_result"
    }
   ],
   "source": [
    "daytime.corr()[['traffic_volume']]"
   ]
  },
  {
   "cell_type": "code",
   "execution_count": 20,
   "metadata": {},
   "outputs": [
    {
     "data": {
      "image/png": "[encoded data removed]",
      "text/plain": [
       "<Figure size 432x288 with 1 Axes>"
      ]
     },
     "metadata": {
      "needs_background": "light"
     },
     "output_type": "display_data"
    }
   ],
   "source": [
    "plt.scatter(daytime['temp'],daytime['traffic_volume'])\n",
    "plt.xlabel('Temp (in Kelvin)')\n",
    "plt.ylabel('Traffic Volume')\n",
    "plt.show()"
   ]
  },
  {
   "cell_type": "markdown",
   "metadata": {},
   "source": [
    "Judging by the correlation coefficients and our scatter plot, there is a weak positive correlation between traffic volumes and temperature. This means as temperature goes up, there's more traffic, but compared to other variables like `dayofweek`, it's not as clear of a relationship. \n",
    "\n",
    "Accross all weather variables, temperature has the strongest correlation with traffic volume. And given the correlation is fairly weak overall, the weather columns don't seem like reliable indicators for heavy traffic."
   ]
  },
  {
   "cell_type": "markdown",
   "metadata": {},
   "source": [
    "## Categorical Weather Columns\n",
    "\n",
    "Our data set also includes non-numeric information about weather patterns. Let's see if there is any connection between traffic volume and `weather_main` or `weather_description`. We'll use a similar strategy - grouping by weather patterns and calculating the mean traffic volumes - as we did with the day and hour.   "
   ]
  },
  {
   "cell_type": "code",
   "execution_count": 21,
   "metadata": {},
   "outputs": [
    {
     "data": {
      "text/html": [
       "<div>\n",
       "<style scoped>\n",
       "    .dataframe tbody tr th:only-of-type {\n",
       "        vertical-align: middle;\n",
       "    }\n",
       "\n",
       "    .dataframe tbody tr th {\n",
       "        vertical-align: top;\n",
       "    }\n",
       "\n",
       "    .dataframe thead th {\n",
       "        text-align: right;\n",
       "    }\n",
       "</style>\n",
       "<table border=\"1\" class=\"dataframe\">\n",
       "  <thead>\n",
       "    <tr style=\"text-align: right;\">\n",
       "      <th></th>\n",
       "      <th>temp</th>\n",
       "      <th>rain_1h</th>\n",
       "      <th>snow_1h</th>\n",
       "      <th>clouds_all</th>\n",
       "      <th>traffic_volume</th>\n",
       "      <th>month</th>\n",
       "      <th>dayofweek</th>\n",
       "      <th>hour</th>\n",
       "    </tr>\n",
       "    <tr>\n",
       "      <th>weather_main</th>\n",
       "      <th></th>\n",
       "      <th></th>\n",
       "      <th></th>\n",
       "      <th></th>\n",
       "      <th></th>\n",
       "      <th></th>\n",
       "      <th></th>\n",
       "      <th></th>\n",
       "    </tr>\n",
       "  </thead>\n",
       "  <tbody>\n",
       "    <tr>\n",
       "      <th>Clear</th>\n",
       "      <td>283.910932</td>\n",
       "      <td>0.000000</td>\n",
       "      <td>0.000000</td>\n",
       "      <td>1.670846</td>\n",
       "      <td>4779.622257</td>\n",
       "      <td>6.492163</td>\n",
       "      <td>3.137931</td>\n",
       "      <td>12.405956</td>\n",
       "    </tr>\n",
       "    <tr>\n",
       "      <th>Clouds</th>\n",
       "      <td>282.929274</td>\n",
       "      <td>0.000000</td>\n",
       "      <td>0.000000</td>\n",
       "      <td>62.667548</td>\n",
       "      <td>4865.415996</td>\n",
       "      <td>6.393243</td>\n",
       "      <td>3.005631</td>\n",
       "      <td>12.911974</td>\n",
       "    </tr>\n",
       "    <tr>\n",
       "      <th>Drizzle</th>\n",
       "      <td>284.456433</td>\n",
       "      <td>0.170804</td>\n",
       "      <td>0.000000</td>\n",
       "      <td>84.704417</td>\n",
       "      <td>4837.212911</td>\n",
       "      <td>7.105323</td>\n",
       "      <td>2.934315</td>\n",
       "      <td>12.308041</td>\n",
       "    </tr>\n",
       "    <tr>\n",
       "      <th>Fog</th>\n",
       "      <td>277.579641</td>\n",
       "      <td>0.163840</td>\n",
       "      <td>0.001409</td>\n",
       "      <td>65.477901</td>\n",
       "      <td>4372.491713</td>\n",
       "      <td>6.646409</td>\n",
       "      <td>2.798343</td>\n",
       "      <td>10.325967</td>\n",
       "    </tr>\n",
       "    <tr>\n",
       "      <th>Haze</th>\n",
       "      <td>275.319353</td>\n",
       "      <td>0.040036</td>\n",
       "      <td>0.000000</td>\n",
       "      <td>64.000000</td>\n",
       "      <td>4609.893285</td>\n",
       "      <td>5.832134</td>\n",
       "      <td>2.754197</td>\n",
       "      <td>12.467626</td>\n",
       "    </tr>\n",
       "    <tr>\n",
       "      <th>Mist</th>\n",
       "      <td>279.420825</td>\n",
       "      <td>0.249992</td>\n",
       "      <td>0.000825</td>\n",
       "      <td>74.961435</td>\n",
       "      <td>4623.976475</td>\n",
       "      <td>6.734285</td>\n",
       "      <td>2.895102</td>\n",
       "      <td>11.078288</td>\n",
       "    </tr>\n",
       "    <tr>\n",
       "      <th>Rain</th>\n",
       "      <td>287.089601</td>\n",
       "      <td>3.972943</td>\n",
       "      <td>0.000292</td>\n",
       "      <td>75.870116</td>\n",
       "      <td>4815.568462</td>\n",
       "      <td>6.774023</td>\n",
       "      <td>2.914467</td>\n",
       "      <td>12.642379</td>\n",
       "    </tr>\n",
       "    <tr>\n",
       "      <th>Smoke</th>\n",
       "      <td>292.405833</td>\n",
       "      <td>0.878333</td>\n",
       "      <td>0.000000</td>\n",
       "      <td>53.333333</td>\n",
       "      <td>4564.583333</td>\n",
       "      <td>6.833333</td>\n",
       "      <td>2.416667</td>\n",
       "      <td>13.166667</td>\n",
       "    </tr>\n",
       "    <tr>\n",
       "      <th>Snow</th>\n",
       "      <td>267.984505</td>\n",
       "      <td>0.014017</td>\n",
       "      <td>0.001768</td>\n",
       "      <td>80.501376</td>\n",
       "      <td>4396.321183</td>\n",
       "      <td>6.374828</td>\n",
       "      <td>2.750344</td>\n",
       "      <td>12.153370</td>\n",
       "    </tr>\n",
       "    <tr>\n",
       "      <th>Squall</th>\n",
       "      <td>296.730000</td>\n",
       "      <td>1.020000</td>\n",
       "      <td>0.000000</td>\n",
       "      <td>75.000000</td>\n",
       "      <td>4211.000000</td>\n",
       "      <td>7.000000</td>\n",
       "      <td>2.000000</td>\n",
       "      <td>14.000000</td>\n",
       "    </tr>\n",
       "    <tr>\n",
       "      <th>Thunderstorm</th>\n",
       "      <td>293.364678</td>\n",
       "      <td>1.146475</td>\n",
       "      <td>0.000000</td>\n",
       "      <td>75.184035</td>\n",
       "      <td>4648.212860</td>\n",
       "      <td>7.108647</td>\n",
       "      <td>2.955654</td>\n",
       "      <td>12.694013</td>\n",
       "    </tr>\n",
       "  </tbody>\n",
       "</table>\n",
       "</div>"
      ],
      "text/plain": [
       "                    temp   rain_1h   snow_1h  clouds_all  traffic_volume  \\\n",
       "weather_main                                                               \n",
       "Clear         283.910932  0.000000  0.000000    1.670846     4779.622257   \n",
       "Clouds        282.929274  0.000000  0.000000   62.667548     4865.415996   \n",
       "Drizzle       284.456433  0.170804  0.000000   84.704417     4837.212911   \n",
       "Fog           277.579641  0.163840  0.001409   65.477901     4372.491713   \n",
       "Haze          275.319353  0.040036  0.000000   64.000000     4609.893285   \n",
       "Mist          279.420825  0.249992  0.000825   74.961435     4623.976475   \n",
       "Rain          287.089601  3.972943  0.000292   75.870116     4815.568462   \n",
       "Smoke         292.405833  0.878333  0.000000   53.333333     4564.583333   \n",
       "Snow          267.984505  0.014017  0.001768   80.501376     4396.321183   \n",
       "Squall        296.730000  1.020000  0.000000   75.000000     4211.000000   \n",
       "Thunderstorm  293.364678  1.146475  0.000000   75.184035     4648.212860   \n",
       "\n",
       "                 month  dayofweek       hour  \n",
       "weather_main                                  \n",
       "Clear         6.492163   3.137931  12.405956  \n",
       "Clouds        6.393243   3.005631  12.911974  \n",
       "Drizzle       7.105323   2.934315  12.308041  \n",
       "Fog           6.646409   2.798343  10.325967  \n",
       "Haze          5.832134   2.754197  12.467626  \n",
       "Mist          6.734285   2.895102  11.078288  \n",
       "Rain          6.774023   2.914467  12.642379  \n",
       "Smoke         6.833333   2.416667  13.166667  \n",
       "Snow          6.374828   2.750344  12.153370  \n",
       "Squall        7.000000   2.000000  14.000000  \n",
       "Thunderstorm  7.108647   2.955654  12.694013  "
      ]
     },
     "execution_count": 21,
     "metadata": {},
     "output_type": "execute_result"
    }
   ],
   "source": [
    "#here, we're grouping all data points by weather patterns and descriptions\n",
    "#and then using the .mean() function to aggregate the data.\n",
    "by_weather_main = daytime.groupby('weather_main').mean()\n",
    "by_weather_description = daytime.groupby('weather_description').mean()\n",
    "\n",
    "by_weather_main"
   ]
  },
  {
   "cell_type": "code",
   "execution_count": 22,
   "metadata": {},
   "outputs": [
    {
     "data": {
      "text/html": [
       "<div>\n",
       "<style scoped>\n",
       "    .dataframe tbody tr th:only-of-type {\n",
       "        vertical-align: middle;\n",
       "    }\n",
       "\n",
       "    .dataframe tbody tr th {\n",
       "        vertical-align: top;\n",
       "    }\n",
       "\n",
       "    .dataframe thead th {\n",
       "        text-align: right;\n",
       "    }\n",
       "</style>\n",
       "<table border=\"1\" class=\"dataframe\">\n",
       "  <thead>\n",
       "    <tr style=\"text-align: right;\">\n",
       "      <th></th>\n",
       "      <th>temp</th>\n",
       "      <th>rain_1h</th>\n",
       "      <th>snow_1h</th>\n",
       "      <th>clouds_all</th>\n",
       "      <th>traffic_volume</th>\n",
       "      <th>month</th>\n",
       "      <th>dayofweek</th>\n",
       "      <th>hour</th>\n",
       "    </tr>\n",
       "    <tr>\n",
       "      <th>weather_description</th>\n",
       "      <th></th>\n",
       "      <th></th>\n",
       "      <th></th>\n",
       "      <th></th>\n",
       "      <th></th>\n",
       "      <th></th>\n",
       "      <th></th>\n",
       "      <th></th>\n",
       "    </tr>\n",
       "  </thead>\n",
       "  <tbody>\n",
       "    <tr>\n",
       "      <th>SQUALLS</th>\n",
       "      <td>296.730000</td>\n",
       "      <td>1.020000</td>\n",
       "      <td>0.0</td>\n",
       "      <td>75.000000</td>\n",
       "      <td>4211.000000</td>\n",
       "      <td>7.000000</td>\n",
       "      <td>2.000000</td>\n",
       "      <td>14.000000</td>\n",
       "    </tr>\n",
       "    <tr>\n",
       "      <th>Sky is Clear</th>\n",
       "      <td>293.232549</td>\n",
       "      <td>0.000000</td>\n",
       "      <td>0.0</td>\n",
       "      <td>0.000000</td>\n",
       "      <td>4919.009390</td>\n",
       "      <td>7.557512</td>\n",
       "      <td>2.895540</td>\n",
       "      <td>12.453052</td>\n",
       "    </tr>\n",
       "    <tr>\n",
       "      <th>broken clouds</th>\n",
       "      <td>282.372927</td>\n",
       "      <td>0.000000</td>\n",
       "      <td>0.0</td>\n",
       "      <td>72.635875</td>\n",
       "      <td>4824.130326</td>\n",
       "      <td>6.675260</td>\n",
       "      <td>2.998210</td>\n",
       "      <td>12.811314</td>\n",
       "    </tr>\n",
       "    <tr>\n",
       "      <th>drizzle</th>\n",
       "      <td>283.573777</td>\n",
       "      <td>0.145072</td>\n",
       "      <td>0.0</td>\n",
       "      <td>88.589928</td>\n",
       "      <td>4737.330935</td>\n",
       "      <td>7.244604</td>\n",
       "      <td>3.028777</td>\n",
       "      <td>11.697842</td>\n",
       "    </tr>\n",
       "    <tr>\n",
       "      <th>few clouds</th>\n",
       "      <td>284.272965</td>\n",
       "      <td>0.000000</td>\n",
       "      <td>0.0</td>\n",
       "      <td>19.391951</td>\n",
       "      <td>4839.818023</td>\n",
       "      <td>6.159230</td>\n",
       "      <td>2.977253</td>\n",
       "      <td>12.633421</td>\n",
       "    </tr>\n",
       "  </tbody>\n",
       "</table>\n",
       "</div>"
      ],
      "text/plain": [
       "                           temp   rain_1h  snow_1h  clouds_all  \\\n",
       "weather_description                                              \n",
       "SQUALLS              296.730000  1.020000      0.0   75.000000   \n",
       "Sky is Clear         293.232549  0.000000      0.0    0.000000   \n",
       "broken clouds        282.372927  0.000000      0.0   72.635875   \n",
       "drizzle              283.573777  0.145072      0.0   88.589928   \n",
       "few clouds           284.272965  0.000000      0.0   19.391951   \n",
       "\n",
       "                     traffic_volume     month  dayofweek       hour  \n",
       "weather_description                                                  \n",
       "SQUALLS                 4211.000000  7.000000   2.000000  14.000000  \n",
       "Sky is Clear            4919.009390  7.557512   2.895540  12.453052  \n",
       "broken clouds           4824.130326  6.675260   2.998210  12.811314  \n",
       "drizzle                 4737.330935  7.244604   3.028777  11.697842  \n",
       "few clouds              4839.818023  6.159230   2.977253  12.633421  "
      ]
     },
     "execution_count": 22,
     "metadata": {},
     "output_type": "execute_result"
    }
   ],
   "source": [
    "by_weather_description.head()"
   ]
  },
  {
   "cell_type": "markdown",
   "metadata": {},
   "source": [
    "Next, let's use the aggregate data and create bar plots to see if any particular weather pattern is connected to heavy traffic volumes."
   ]
  },
  {
   "cell_type": "code",
   "execution_count": 23,
   "metadata": {},
   "outputs": [
    {
     "data": {
      "image/png": "[encoded data removed]",
      "text/plain": [
       "<Figure size 432x288 with 1 Axes>"
      ]
     },
     "metadata": {
      "needs_background": "light"
     },
     "output_type": "display_data"
    }
   ],
   "source": [
    "by_weather_main['traffic_volume'].sort_values().plot.barh()\n",
    "plt.ylabel('Weather Pattern')\n",
    "plt.xlabel('Average Traffic Volume')\n",
    "plt.title('Average Traffic Volume by Weather pattern')\n",
    "plt.show()"
   ]
  },
  {
   "cell_type": "markdown",
   "metadata": {},
   "source": [
    "Keep in mind, the average traffic volume accross all weekday day time traffic (the data we're working with) is 4762 cars/hour. Looking at the bar plot above, there doesn't seem to be any weather that drastically deviates from that mean. \n",
    "\n",
    "Let's see if there are any patterns when we look at the data grouped by `weather_description`, which is more nuanced than `weather_main`."
   ]
  },
  {
   "cell_type": "code",
   "execution_count": 24,
   "metadata": {
    "scrolled": false
   },
   "outputs": [
    {
     "data": {
      "image/png": "[encoded data removed]",
      "text/plain": [
       "<Figure size 432x720 with 1 Axes>"
      ]
     },
     "metadata": {
      "needs_background": "light"
     },
     "output_type": "display_data"
    }
   ],
   "source": [
    "by_weather_description['traffic_volume'].sort_values().plot.barh(figsize=(6,10))\n",
    "plt.ylabel('Weather Description')\n",
    "\n",
    "plt.xlabel('Average Traffic Volume')\n",
    "plt.title('Average Traffic Volume by Weather Description')\n",
    "plt.show()"
   ]
  },
  {
   "cell_type": "code",
   "execution_count": 25,
   "metadata": {},
   "outputs": [
    {
     "data": {
      "text/html": [
       "<div>\n",
       "<style scoped>\n",
       "    .dataframe tbody tr th:only-of-type {\n",
       "        vertical-align: middle;\n",
       "    }\n",
       "\n",
       "    .dataframe tbody tr th {\n",
       "        vertical-align: top;\n",
       "    }\n",
       "\n",
       "    .dataframe thead th {\n",
       "        text-align: right;\n",
       "    }\n",
       "</style>\n",
       "<table border=\"1\" class=\"dataframe\">\n",
       "  <thead>\n",
       "    <tr style=\"text-align: right;\">\n",
       "      <th></th>\n",
       "      <th>traffic_volume</th>\n",
       "    </tr>\n",
       "    <tr>\n",
       "      <th>weather_description</th>\n",
       "      <th></th>\n",
       "    </tr>\n",
       "  </thead>\n",
       "  <tbody>\n",
       "    <tr>\n",
       "      <th>shower snow</th>\n",
       "      <td>5664.000000</td>\n",
       "    </tr>\n",
       "    <tr>\n",
       "      <th>light rain and snow</th>\n",
       "      <td>5579.750000</td>\n",
       "    </tr>\n",
       "    <tr>\n",
       "      <th>proximity thunderstorm with drizzle</th>\n",
       "      <td>5121.833333</td>\n",
       "    </tr>\n",
       "    <tr>\n",
       "      <th>thunderstorm with light drizzle</th>\n",
       "      <td>4960.000000</td>\n",
       "    </tr>\n",
       "    <tr>\n",
       "      <th>scattered clouds</th>\n",
       "      <td>4936.787712</td>\n",
       "    </tr>\n",
       "    <tr>\n",
       "      <th>shower drizzle</th>\n",
       "      <td>4932.666667</td>\n",
       "    </tr>\n",
       "    <tr>\n",
       "      <th>Sky is Clear</th>\n",
       "      <td>4919.009390</td>\n",
       "    </tr>\n",
       "    <tr>\n",
       "      <th>proximity shower rain</th>\n",
       "      <td>4901.756757</td>\n",
       "    </tr>\n",
       "    <tr>\n",
       "      <th>light intensity drizzle</th>\n",
       "      <td>4890.164049</td>\n",
       "    </tr>\n",
       "    <tr>\n",
       "      <th>overcast clouds</th>\n",
       "      <td>4861.124952</td>\n",
       "    </tr>\n",
       "    <tr>\n",
       "      <th>light rain</th>\n",
       "      <td>4859.650849</td>\n",
       "    </tr>\n",
       "    <tr>\n",
       "      <th>few clouds</th>\n",
       "      <td>4839.818023</td>\n",
       "    </tr>\n",
       "    <tr>\n",
       "      <th>broken clouds</th>\n",
       "      <td>4824.130326</td>\n",
       "    </tr>\n",
       "    <tr>\n",
       "      <th>very heavy rain</th>\n",
       "      <td>4780.571429</td>\n",
       "    </tr>\n",
       "    <tr>\n",
       "      <th>moderate rain</th>\n",
       "      <td>4769.643312</td>\n",
       "    </tr>\n",
       "    <tr>\n",
       "      <th>sky is clear</th>\n",
       "      <td>4755.336401</td>\n",
       "    </tr>\n",
       "    <tr>\n",
       "      <th>heavy intensity drizzle</th>\n",
       "      <td>4738.586207</td>\n",
       "    </tr>\n",
       "    <tr>\n",
       "      <th>drizzle</th>\n",
       "      <td>4737.330935</td>\n",
       "    </tr>\n",
       "    <tr>\n",
       "      <th>thunderstorm</th>\n",
       "      <td>4724.708333</td>\n",
       "    </tr>\n",
       "    <tr>\n",
       "      <th>proximity thunderstorm</th>\n",
       "      <td>4684.356436</td>\n",
       "    </tr>\n",
       "    <tr>\n",
       "      <th>mist</th>\n",
       "      <td>4623.976475</td>\n",
       "    </tr>\n",
       "    <tr>\n",
       "      <th>light shower snow</th>\n",
       "      <td>4618.636364</td>\n",
       "    </tr>\n",
       "    <tr>\n",
       "      <th>heavy intensity rain</th>\n",
       "      <td>4610.356164</td>\n",
       "    </tr>\n",
       "    <tr>\n",
       "      <th>haze</th>\n",
       "      <td>4609.893285</td>\n",
       "    </tr>\n",
       "    <tr>\n",
       "      <th>smoke</th>\n",
       "      <td>4564.583333</td>\n",
       "    </tr>\n",
       "    <tr>\n",
       "      <th>light intensity shower rain</th>\n",
       "      <td>4558.100000</td>\n",
       "    </tr>\n",
       "    <tr>\n",
       "      <th>thunderstorm with heavy rain</th>\n",
       "      <td>4555.760000</td>\n",
       "    </tr>\n",
       "    <tr>\n",
       "      <th>thunderstorm with rain</th>\n",
       "      <td>4522.950000</td>\n",
       "    </tr>\n",
       "    <tr>\n",
       "      <th>proximity thunderstorm with rain</th>\n",
       "      <td>4501.611111</td>\n",
       "    </tr>\n",
       "    <tr>\n",
       "      <th>light snow</th>\n",
       "      <td>4430.858896</td>\n",
       "    </tr>\n",
       "    <tr>\n",
       "      <th>heavy snow</th>\n",
       "      <td>4411.681250</td>\n",
       "    </tr>\n",
       "    <tr>\n",
       "      <th>fog</th>\n",
       "      <td>4372.491713</td>\n",
       "    </tr>\n",
       "    <tr>\n",
       "      <th>thunderstorm with light rain</th>\n",
       "      <td>4336.130435</td>\n",
       "    </tr>\n",
       "    <tr>\n",
       "      <th>freezing rain</th>\n",
       "      <td>4314.000000</td>\n",
       "    </tr>\n",
       "    <tr>\n",
       "      <th>sleet</th>\n",
       "      <td>4312.666667</td>\n",
       "    </tr>\n",
       "    <tr>\n",
       "      <th>SQUALLS</th>\n",
       "      <td>4211.000000</td>\n",
       "    </tr>\n",
       "    <tr>\n",
       "      <th>snow</th>\n",
       "      <td>4054.065693</td>\n",
       "    </tr>\n",
       "    <tr>\n",
       "      <th>thunderstorm with drizzle</th>\n",
       "      <td>2297.000000</td>\n",
       "    </tr>\n",
       "  </tbody>\n",
       "</table>\n",
       "</div>"
      ],
      "text/plain": [
       "                                     traffic_volume\n",
       "weather_description                                \n",
       "shower snow                             5664.000000\n",
       "light rain and snow                     5579.750000\n",
       "proximity thunderstorm with drizzle     5121.833333\n",
       "thunderstorm with light drizzle         4960.000000\n",
       "scattered clouds                        4936.787712\n",
       "shower drizzle                          4932.666667\n",
       "Sky is Clear                            4919.009390\n",
       "proximity shower rain                   4901.756757\n",
       "light intensity drizzle                 4890.164049\n",
       "overcast clouds                         4861.124952\n",
       "light rain                              4859.650849\n",
       "few clouds                              4839.818023\n",
       "broken clouds                           4824.130326\n",
       "very heavy rain                         4780.571429\n",
       "moderate rain                           4769.643312\n",
       "sky is clear                            4755.336401\n",
       "heavy intensity drizzle                 4738.586207\n",
       "drizzle                                 4737.330935\n",
       "thunderstorm                            4724.708333\n",
       "proximity thunderstorm                  4684.356436\n",
       "mist                                    4623.976475\n",
       "light shower snow                       4618.636364\n",
       "heavy intensity rain                    4610.356164\n",
       "haze                                    4609.893285\n",
       "smoke                                   4564.583333\n",
       "light intensity shower rain             4558.100000\n",
       "thunderstorm with heavy rain            4555.760000\n",
       "thunderstorm with rain                  4522.950000\n",
       "proximity thunderstorm with rain        4501.611111\n",
       "light snow                              4430.858896\n",
       "heavy snow                              4411.681250\n",
       "fog                                     4372.491713\n",
       "thunderstorm with light rain            4336.130435\n",
       "freezing rain                           4314.000000\n",
       "sleet                                   4312.666667\n",
       "SQUALLS                                 4211.000000\n",
       "snow                                    4054.065693\n",
       "thunderstorm with drizzle               2297.000000"
      ]
     },
     "execution_count": 25,
     "metadata": {},
     "output_type": "execute_result"
    }
   ],
   "source": [
    "#including this list of mean traffic volumes for reference\n",
    "by_weather_description[['traffic_volume']].sort_values(by=['traffic_volume'], ascending=False)"
   ]
  },
  {
   "cell_type": "markdown",
   "metadata": {},
   "source": [
    "It seems like we get some more informing patterns when we group the data by weather description. We find three descriptions where traffic volume is above 5,000 cars/hour: shower snow, light rain and snow, and proximity thunderstorm with drizzle. However we also see 'thunderstorm with drizzle', 'snow', 'heavy snow', 'light snow', and 'freezing rain' with traffic volumes below the overall weekday daytime mean traffic volume of 4762 cars/hour. \n",
    "\n",
    "Given this inconsistency, I wouldn't say that any weather pattern is a clear indicator of heavy traffic. \n",
    "\n",
    "## Conclusion\n",
    "\n",
    "In this project, we were looking for clear indicators of heavy traffic for I-94. The only clear indicators of heavy traffic seem to be:\n",
    "\n",
    " - Weekdays\n",
    " - Month (March, April, May, June, August, September, October saw the heaviest traffic)\n",
    " - Time of day (Weekdays 7am and 4pm are 'rush hour')\n",
    " \n",
    "If we look back at our correlation coefficients, we can see there is relatively strong correlation between `traffic_volume` and `dayofweek` (-.41). With the other columns `month` and `hour`, the correlation coeffecients aren't as strong because the traffic volume doesn't necessarily increase linearly, but we do see a clear pattern when we analyze the graphs. It seems like intense weather may increase traffic or decrease traffic, the pattern isn't clear enough to draw a conclusion given the inconsistencies in our data."
   ]
  }
 ],
 "metadata": {
  "kernelspec": {
   "display_name": "Python 3",
   "language": "python",
   "name": "python3"
  },
  "language_info": {
   "codemirror_mode": {
    "name": "ipython",
    "version": 3
   },
   "file_extension": ".py",
   "mimetype": "text/x-python",
   "name": "python",
   "nbconvert_exporter": "python",
   "pygments_lexer": "ipython3",
   "version": "3.8.8"
  }
 },
 "nbformat": 4,
 "nbformat_minor": 4
}
